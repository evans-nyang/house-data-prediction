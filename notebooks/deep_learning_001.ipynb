{
  "nbformat": 4,
  "nbformat_minor": 0,
  "metadata": {
    "colab": {
      "provenance": []
    },
    "kernelspec": {
      "name": "python3",
      "display_name": "Python 3"
    },
    "language_info": {
      "name": "python"
    },
    "accelerator": "GPU",
    "gpuClass": "standard"
  },
  "cells": [
    {
      "cell_type": "markdown",
      "source": [
        "**Build a GPU deep learning environment and use the deep learning library tensorflow to perform image recognition.**"
      ],
      "metadata": {
        "id": "qjvbBhNpuRDc"
      }
    },
    {
      "cell_type": "code",
      "source": [
        "# run to make sure GPU is available\n",
        "\n",
        "from tensorflow.python.client import device_lib\n",
        "device_lib.list_local_devices()\n"
      ],
      "metadata": {
        "colab": {
          "base_uri": "https://localhost:8080/"
        },
        "id": "F5-6zheLuJnD",
        "outputId": "61795577-eb0d-4b5b-fd9a-b3756bc842a2"
      },
      "execution_count": null,
      "outputs": [
        {
          "output_type": "execute_result",
          "data": {
            "text/plain": [
              "[name: \"/device:CPU:0\"\n",
              " device_type: \"CPU\"\n",
              " memory_limit: 268435456\n",
              " locality {\n",
              " }\n",
              " incarnation: 9707476418313971362\n",
              " xla_global_id: -1]"
            ]
          },
          "metadata": {},
          "execution_count": 1
        }
      ]
    },
    {
      "cell_type": "code",
      "execution_count": null,
      "metadata": {
        "id": "jqdNAzhfr8Gm"
      },
      "outputs": [],
      "source": [
        "# import libraries\n",
        "from __future__ import absolute_import, division, print_function, unicode_literals\n",
        "\n",
        "# import tensorflow\n",
        "import tensorflow as tf"
      ]
    },
    {
      "cell_type": "code",
      "source": [
        "# Load MNIST data\n",
        "(x_train, y_train), (x_test, y_test) = tf.keras.datasets.mnist.load_data()"
      ],
      "metadata": {
        "colab": {
          "base_uri": "https://localhost:8080/"
        },
        "id": "QZaBYlWHtPQ6",
        "outputId": "a7e773e1-ed48-4a1d-8572-28de6b000bf3"
      },
      "execution_count": null,
      "outputs": [
        {
          "output_type": "stream",
          "name": "stdout",
          "text": [
            "Downloading data from https://storage.googleapis.com/tensorflow/tf-keras-datasets/mnist.npz\n",
            "11490434/11490434 [==============================] - 0s 0us/step\n"
          ]
        }
      ]
    },
    {
      "cell_type": "code",
      "source": [
        "# check MNIST datatype\n",
        "print(type(x_train))"
      ],
      "metadata": {
        "colab": {
          "base_uri": "https://localhost:8080/"
        },
        "id": "tIDKO4A8tTN1",
        "outputId": "ef225818-fde1-4211-f789-f6a87bc95d7d"
      },
      "execution_count": null,
      "outputs": [
        {
          "output_type": "stream",
          "name": "stdout",
          "text": [
            "<class 'numpy.ndarray'>\n"
          ]
        }
      ]
    },
    {
      "cell_type": "code",
      "source": [
        "# check how many records of the data structure are stored\n",
        "\n",
        "print(x_train.shape)\n",
        "print(x_test.shape)\n",
        "print(y_train.shape)\n",
        "print(y_test.shape)"
      ],
      "metadata": {
        "colab": {
          "base_uri": "https://localhost:8080/"
        },
        "id": "tgEWIFuqtj-e",
        "outputId": "bf18eae1-f9c1-47a8-d2b0-42948372ea8e"
      },
      "execution_count": null,
      "outputs": [
        {
          "output_type": "stream",
          "name": "stdout",
          "text": [
            "(60000, 28, 28)\n",
            "(10000, 28, 28)\n",
            "(60000,)\n",
            "(10000,)\n"
          ]
        }
      ]
    },
    {
      "cell_type": "code",
      "source": [
        "# display a 28 x 28 pixel image of a training dataset.\n",
        "\n",
        "import matplotlib.pyplot as plt\n",
        "plt.imshow(x_train[0])"
      ],
      "metadata": {
        "colab": {
          "base_uri": "https://localhost:8080/",
          "height": 447
        },
        "id": "2u2_oofFtnO1",
        "outputId": "758ab110-b4f3-4074-f67a-1492161200ee"
      },
      "execution_count": null,
      "outputs": [
        {
          "output_type": "execute_result",
          "data": {
            "text/plain": [
              "<matplotlib.image.AxesImage at 0x7fcca667e2e0>"
            ]
          },
          "metadata": {},
          "execution_count": 6
        },
        {
          "output_type": "display_data",
          "data": {
            "text/plain": [
              "<Figure size 640x480 with 1 Axes>"
            ],
            "image/png": "[encoded data removed]"
          },
          "metadata": {}
        }
      ]
    },
    {
      "cell_type": "code",
      "source": [
        "# display the correct answer\n",
        "\n",
        "print(y_train[0])"
      ],
      "metadata": {
        "colab": {
          "base_uri": "https://localhost:8080/"
        },
        "id": "ZJheF2HBt-Li",
        "outputId": "bd5c76d8-e714-430a-c10f-51832c46a514"
      },
      "execution_count": null,
      "outputs": [
        {
          "output_type": "stream",
          "name": "stdout",
          "text": [
            "5\n"
          ]
        }
      ]
    },
    {
      "cell_type": "code",
      "source": [
        "plt.imshow(x_test[0])"
      ],
      "metadata": {
        "colab": {
          "base_uri": "https://localhost:8080/",
          "height": 447
        },
        "id": "xMt5mj2buLQU",
        "outputId": "768eb6f2-c9aa-4edf-fb4b-818d70118334"
      },
      "execution_count": null,
      "outputs": [
        {
          "output_type": "execute_result",
          "data": {
            "text/plain": [
              "<matplotlib.image.AxesImage at 0x7fcc8868b2e0>"
            ]
          },
          "metadata": {},
          "execution_count": 8
        },
        {
          "output_type": "display_data",
          "data": {
            "text/plain": [
              "<Figure size 640x480 with 1 Axes>"
            ],
            "image/png": "[encoded data removed]"
          },
          "metadata": {}
        }
      ]
    },
    {
      "cell_type": "code",
      "source": [
        "y_test[0]"
      ],
      "metadata": {
        "colab": {
          "base_uri": "https://localhost:8080/"
        },
        "id": "EpbWyWnRuVOa",
        "outputId": "c587f5fa-b261-447c-891e-68352c1a7976"
      },
      "execution_count": null,
      "outputs": [
        {
          "output_type": "execute_result",
          "data": {
            "text/plain": [
              "7"
            ]
          },
          "metadata": {},
          "execution_count": 9
        }
      ]
    },
    {
      "cell_type": "markdown",
      "source": [
        "*Train a deep learning model using the 60,000 training dataset and the pair of\n",
        "correct answer labels x_train and y_train that were just used to see if we can predict the number 7 from the image 7 in this test dataset. \n",
        "The code below builds an all-coupled neural network with three intermediate layers.*"
      ],
      "metadata": {
        "id": "bi7LxKt5wRLe"
      }
    },
    {
      "cell_type": "code",
      "source": [
        "# Building a Deep Learning Model\n",
        "model = tf.keras.models.Sequential([\n",
        "tf.keras.layers.InputLayer(input_shape=( 784 , )),\n",
        "tf.keras.layers.Dense( 256 , activation= 'relu' ),\n",
        "tf.keras.layers.Dropout( 0.2 ),\n",
        "tf.keras.layers.Dense( 128 , activation= 'relu' ),\n",
        "tf.keras.layers.Dropout( 0.2 ),\n",
        "tf.keras.layers.Dense( 256 , activation= 'relu' ),\n",
        "tf.keras.layers.Dropout( 0.2 ),\n",
        "tf.keras.layers.Dense( 10 , activation= 'softmax' )\n",
        "])\n",
        "# Compilation and overview of the model\n",
        "model.compile(\n",
        "optimizer= 'adam' ,\n",
        "loss= 'binary_crossentropy' ,\n",
        "metrics=[ 'accuracy' ]\n",
        ")\n",
        "print(model.summary())"
      ],
      "metadata": {
        "colab": {
          "base_uri": "https://localhost:8080/"
        },
        "id": "qKw_68bCuYRJ",
        "outputId": "554064d4-13ac-46df-e18d-dcc3737bf5ed"
      },
      "execution_count": null,
      "outputs": [
        {
          "output_type": "stream",
          "name": "stdout",
          "text": [
            "Model: \"sequential\"\n",
            "_________________________________________________________________\n",
            " Layer (type)                Output Shape              Param #   \n",
            "=================================================================\n",
            " dense (Dense)               (None, 256)               200960    \n",
            "                                                                 \n",
            " dropout (Dropout)           (None, 256)               0         \n",
            "                                                                 \n",
            " dense_1 (Dense)             (None, 128)               32896     \n",
            "                                                                 \n",
            " dropout_1 (Dropout)         (None, 128)               0         \n",
            "                                                                 \n",
            " dense_2 (Dense)             (None, 256)               33024     \n",
            "                                                                 \n",
            " dropout_2 (Dropout)         (None, 256)               0         \n",
            "                                                                 \n",
            " dense_3 (Dense)             (None, 10)                2570      \n",
            "                                                                 \n",
            "=================================================================\n",
            "Total params: 269,450\n",
            "Trainable params: 269,450\n",
            "Non-trainable params: 0\n",
            "_________________________________________________________________\n",
            "None\n"
          ]
        }
      ]
    },
    {
      "cell_type": "code",
      "source": [
        "# Preprocessing of MNIST data (flatten 28 x 28 pixel to 784 for input)\n",
        "x_train = x_train.reshape( 60000 , 784 )\n",
        "x_test = x_test.reshape( 10000 , 784 )\n",
        "# Casting to a float32 type because of a true divide error when dividing by itself\n",
        "x_train = x_train.astype( 'float32' )\n",
        "x_test = x_test.astype( 'float32' )\n",
        "# Normalizes data to a float32 type in the range of 0 to 1\n",
        "x_train /= 255\n",
        "x_test /= 255\n",
        "# Convert to categorical data (1 => [0, 1, 0, 0, 0, 0, 0, 0, 0, 0, 0, 0])\n",
        "y_train = tf.keras.utils.to_categorical(y_train, 10 )\n",
        "y_test = tf.keras.utils.to_categorical(y_test, 10 )"
      ],
      "metadata": {
        "id": "Ob0Db2wXuzBb"
      },
      "execution_count": null,
      "outputs": []
    },
    {
      "cell_type": "code",
      "source": [
        "model.fit(x_train, y_train, epochs= 20)"
      ],
      "metadata": {
        "colab": {
          "base_uri": "https://localhost:8080/"
        },
        "id": "G94SFcUgvSpJ",
        "outputId": "1b41ebff-d43a-47f8-b6a8-68655277a67e"
      },
      "execution_count": null,
      "outputs": [
        {
          "output_type": "stream",
          "name": "stdout",
          "text": [
            "Epoch 1/20\n",
            "1875/1875 [==============================] - 19s 9ms/step - loss: 0.0523 - accuracy: 0.9108\n",
            "Epoch 2/20\n",
            "1875/1875 [==============================] - 21s 11ms/step - loss: 0.0233 - accuracy: 0.9617\n",
            "Epoch 3/20\n",
            "1875/1875 [==============================] - 13s 7ms/step - loss: 0.0182 - accuracy: 0.9707\n",
            "Epoch 4/20\n",
            "1875/1875 [==============================] - 13s 7ms/step - loss: 0.0153 - accuracy: 0.9750\n",
            "Epoch 5/20\n",
            "1875/1875 [==============================] - 13s 7ms/step - loss: 0.0137 - accuracy: 0.9780\n",
            "Epoch 6/20\n",
            "1875/1875 [==============================] - 13s 7ms/step - loss: 0.0119 - accuracy: 0.9805\n",
            "Epoch 7/20\n",
            "1875/1875 [==============================] - 13s 7ms/step - loss: 0.0111 - accuracy: 0.9819\n",
            "Epoch 8/20\n",
            "1875/1875 [==============================] - 14s 7ms/step - loss: 0.0101 - accuracy: 0.9837\n",
            "Epoch 9/20\n",
            "1875/1875 [==============================] - 13s 7ms/step - loss: 0.0090 - accuracy: 0.9852\n",
            "Epoch 10/20\n",
            "1875/1875 [==============================] - 15s 8ms/step - loss: 0.0088 - accuracy: 0.9858\n",
            "Epoch 11/20\n",
            "1875/1875 [==============================] - 13s 7ms/step - loss: 0.0083 - accuracy: 0.9869\n",
            "Epoch 12/20\n",
            "1875/1875 [==============================] - 13s 7ms/step - loss: 0.0074 - accuracy: 0.9879\n",
            "Epoch 13/20\n",
            "1875/1875 [==============================] - 13s 7ms/step - loss: 0.0075 - accuracy: 0.9883\n",
            "Epoch 14/20\n",
            "1875/1875 [==============================] - 13s 7ms/step - loss: 0.0071 - accuracy: 0.9884\n",
            "Epoch 15/20\n",
            "1875/1875 [==============================] - 13s 7ms/step - loss: 0.0069 - accuracy: 0.9889\n",
            "Epoch 16/20\n",
            "1875/1875 [==============================] - 13s 7ms/step - loss: 0.0063 - accuracy: 0.9898\n",
            "Epoch 17/20\n",
            "1875/1875 [==============================] - 13s 7ms/step - loss: 0.0061 - accuracy: 0.9906\n",
            "Epoch 18/20\n",
            "1875/1875 [==============================] - 13s 7ms/step - loss: 0.0059 - accuracy: 0.9912\n",
            "Epoch 19/20\n",
            "1875/1875 [==============================] - 14s 7ms/step - loss: 0.0060 - accuracy: 0.9908\n",
            "Epoch 20/20\n",
            "1875/1875 [==============================] - 14s 7ms/step - loss: 0.0058 - accuracy: 0.9908\n"
          ]
        },
        {
          "output_type": "execute_result",
          "data": {
            "text/plain": [
              "<keras.callbacks.History at 0x7fcc8bbb4610>"
            ]
          },
          "metadata": {},
          "execution_count": 12
        }
      ]
    },
    {
      "cell_type": "code",
      "source": [
        "model.evaluate(x_test, y_test, verbose= 2 )"
      ],
      "metadata": {
        "colab": {
          "base_uri": "https://localhost:8080/"
        },
        "id": "S_yfq7vHvS-9",
        "outputId": "72040af9-869e-43b2-a026-78d15860d458"
      },
      "execution_count": null,
      "outputs": [
        {
          "output_type": "stream",
          "name": "stdout",
          "text": [
            "313/313 - 1s - loss: 0.0141 - accuracy: 0.9836 - 809ms/epoch - 3ms/step\n"
          ]
        },
        {
          "output_type": "execute_result",
          "data": {
            "text/plain": [
              "[0.014070039615035057, 0.9836000204086304]"
            ]
          },
          "metadata": {},
          "execution_count": 13
        }
      ]
    },
    {
      "cell_type": "code",
      "source": [
        "model.fit(x_train, y_train, epochs= 20 , validation_split= 0.3 )"
      ],
      "metadata": {
        "colab": {
          "base_uri": "https://localhost:8080/"
        },
        "id": "jQktUyxkvTGY",
        "outputId": "090245dd-5839-4d56-b808-d5e9902724e3"
      },
      "execution_count": null,
      "outputs": [
        {
          "output_type": "stream",
          "name": "stdout",
          "text": [
            "Epoch 1/20\n",
            "1313/1313 [==============================] - 13s 9ms/step - loss: 0.0047 - accuracy: 0.9923 - val_loss: 0.0017 - val_accuracy: 0.9970\n",
            "Epoch 2/20\n",
            "1313/1313 [==============================] - 12s 9ms/step - loss: 0.0049 - accuracy: 0.9928 - val_loss: 0.0032 - val_accuracy: 0.9950\n",
            "Epoch 3/20\n",
            "1313/1313 [==============================] - 12s 9ms/step - loss: 0.0049 - accuracy: 0.9928 - val_loss: 0.0036 - val_accuracy: 0.9946\n",
            "Epoch 4/20\n",
            "1313/1313 [==============================] - 11s 9ms/step - loss: 0.0050 - accuracy: 0.9926 - val_loss: 0.0030 - val_accuracy: 0.9952\n",
            "Epoch 5/20\n",
            "1313/1313 [==============================] - 12s 9ms/step - loss: 0.0046 - accuracy: 0.9935 - val_loss: 0.0030 - val_accuracy: 0.9953\n",
            "Epoch 6/20\n",
            "1313/1313 [==============================] - 10s 8ms/step - loss: 0.0045 - accuracy: 0.9940 - val_loss: 0.0035 - val_accuracy: 0.9943\n",
            "Epoch 7/20\n",
            "1313/1313 [==============================] - 11s 8ms/step - loss: 0.0040 - accuracy: 0.9937 - val_loss: 0.0041 - val_accuracy: 0.9932\n",
            "Epoch 8/20\n",
            "1313/1313 [==============================] - 11s 8ms/step - loss: 0.0043 - accuracy: 0.9937 - val_loss: 0.0047 - val_accuracy: 0.9937\n",
            "Epoch 9/20\n",
            "1313/1313 [==============================] - 11s 8ms/step - loss: 0.0038 - accuracy: 0.9942 - val_loss: 0.0048 - val_accuracy: 0.9927\n",
            "Epoch 10/20\n",
            "1313/1313 [==============================] - 11s 8ms/step - loss: 0.0043 - accuracy: 0.9934 - val_loss: 0.0048 - val_accuracy: 0.9929\n",
            "Epoch 11/20\n",
            "1313/1313 [==============================] - 12s 9ms/step - loss: 0.0035 - accuracy: 0.9948 - val_loss: 0.0050 - val_accuracy: 0.9932\n",
            "Epoch 12/20\n",
            "1313/1313 [==============================] - 11s 9ms/step - loss: 0.0036 - accuracy: 0.9945 - val_loss: 0.0048 - val_accuracy: 0.9923\n",
            "Epoch 13/20\n",
            "1313/1313 [==============================] - 10s 7ms/step - loss: 0.0038 - accuracy: 0.9946 - val_loss: 0.0058 - val_accuracy: 0.9918\n",
            "Epoch 14/20\n",
            "1313/1313 [==============================] - 11s 8ms/step - loss: 0.0043 - accuracy: 0.9940 - val_loss: 0.0051 - val_accuracy: 0.9927\n",
            "Epoch 15/20\n",
            "1313/1313 [==============================] - 11s 8ms/step - loss: 0.0034 - accuracy: 0.9947 - val_loss: 0.0054 - val_accuracy: 0.9928\n",
            "Epoch 16/20\n",
            "1313/1313 [==============================] - 11s 8ms/step - loss: 0.0031 - accuracy: 0.9958 - val_loss: 0.0078 - val_accuracy: 0.9884\n",
            "Epoch 17/20\n",
            "1313/1313 [==============================] - 11s 9ms/step - loss: 0.0038 - accuracy: 0.9948 - val_loss: 0.0060 - val_accuracy: 0.9918\n",
            "Epoch 18/20\n",
            "1313/1313 [==============================] - 11s 8ms/step - loss: 0.0032 - accuracy: 0.9959 - val_loss: 0.0059 - val_accuracy: 0.9925\n",
            "Epoch 19/20\n",
            "1313/1313 [==============================] - 12s 9ms/step - loss: 0.0034 - accuracy: 0.9958 - val_loss: 0.0062 - val_accuracy: 0.9922\n",
            "Epoch 20/20\n",
            "1313/1313 [==============================] - 10s 8ms/step - loss: 0.0031 - accuracy: 0.9957 - val_loss: 0.0064 - val_accuracy: 0.9912\n"
          ]
        },
        {
          "output_type": "execute_result",
          "data": {
            "text/plain": [
              "<keras.callbacks.History at 0x7fcc8b36a940>"
            ]
          },
          "metadata": {},
          "execution_count": 14
        }
      ]
    },
    {
      "cell_type": "code",
      "source": [
        "model.evaluate(x_test, y_test, verbose= 2 )"
      ],
      "metadata": {
        "colab": {
          "base_uri": "https://localhost:8080/"
        },
        "id": "16xFa844vTJk",
        "outputId": "6b4354f7-1f4a-4d91-80fc-9438cedcc3e9"
      },
      "execution_count": null,
      "outputs": [
        {
          "output_type": "stream",
          "name": "stdout",
          "text": [
            "313/313 - 1s - loss: 0.0177 - accuracy: 0.9816 - 685ms/epoch - 2ms/step\n"
          ]
        },
        {
          "output_type": "execute_result",
          "data": {
            "text/plain": [
              "[0.017651233822107315, 0.9815999865531921]"
            ]
          },
          "metadata": {},
          "execution_count": 15
        }
      ]
    },
    {
      "cell_type": "markdown",
      "source": [],
      "metadata": {
        "id": "IEK-oMThsiyv"
      }
    },
    {
      "cell_type": "markdown",
      "source": [
        "The percentage of correct answers is not that different than when we had it trained and predicted with the training dataset.\n",
        "\n",
        "Made the following hypotheses about the cause of this:\n",
        "\n",
        "1.   Lack of a training dataset.\n",
        "  - In a training dataset of 42,000 training data, is it not possible to capture the characteristics of the 10,000 training dataset for testing (i.e., there is a lack of variation in the training data)?\n",
        "2.   Lack of epochs.\n",
        "  - Validation_split has reduced the number of data to train the model from 60,000 to 42,000, so the training may still be completed before the peak of the correctness rate?\n"
      ],
      "metadata": {
        "id": "apwyZQQFslkV"
      }
    },
    {
      "cell_type": "code",
      "source": [
        "# Displaying 10 randomly from each of the training and test data to verify that (1) is true.\n",
        "\n",
        "import matplotlib.pyplot as plt\n",
        "import numpy as np\n",
        "\n",
        "# Load the MNIST dataset\n",
        "(xo_train, yo_train), (xo_test, yo_test) = tf.keras.datasets.mnist.load_data()\n",
        "\n",
        "# Define the plot_random10 function\n",
        "def plot_random10(mnist_data, title):\n",
        "    \"\"\"Get 10 randomly from mnist data and draw\"\"\"\n",
        "    fig = plt.figure(figsize=(28, 28), dpi=100)\n",
        "    fig.suptitle(title, fontsize=18, x=0, y=0.92)\n",
        "    for index, x in enumerate(mnist_data[np.random.choice(np.arange(0, len(mnist_data)), 10, replace=False)], 1):\n",
        "        ax = fig.add_subplot(28, 28, index)\n",
        "        plt.imshow(x)\n",
        "\n",
        "# Call the plot_random10 function to plot 10 random images from the training set\n",
        "plot_random10(xo_train, 'Train Set')\n",
        "\n",
        "# Call the plot_random10 function to plot 10 random images from the test set\n",
        "plot_random10(xo_test, 'Test Set')"
      ],
      "metadata": {
        "colab": {
          "base_uri": "https://localhost:8080/",
          "height": 457
        },
        "id": "VU3eE6Bn6E5v",
        "outputId": "8749cd67-269d-4913-a8c4-dcd5a1a99670"
      },
      "execution_count": null,
      "outputs": [
        {
          "output_type": "display_data",
          "data": {
            "text/plain": [
              "<Figure size 2800x2800 with 10 Axes>"
            ],
            "image/png": "[encoded data removed]"
          },
          "metadata": {}
        },
        {
          "output_type": "display_data",
          "data": {
            "text/plain": [
              "<Figure size 2800x2800 with 10 Axes>"
            ],
            "image/png": "[encoded data removed]"
          },
          "metadata": {}
        }
      ]
    },
    {
      "cell_type": "code",
      "source": [
        "# to test the hypothesis of (2), use the results of training epochs 50 times to make a prediction.\n",
        "\n",
        "model.fit(x_train, y_train, epochs=50, validation_split=0.3)"
      ],
      "metadata": {
        "colab": {
          "base_uri": "https://localhost:8080/"
        },
        "id": "VpHudMkU6FyN",
        "outputId": "9f54732e-89fb-4afe-e622-ba5910817a6d"
      },
      "execution_count": null,
      "outputs": [
        {
          "output_type": "stream",
          "name": "stdout",
          "text": [
            "Epoch 1/50\n",
            "1313/1313 [==============================] - 11s 9ms/step - loss: 0.0035 - accuracy: 0.9960 - val_loss: 0.0067 - val_accuracy: 0.9908\n",
            "Epoch 2/50\n",
            "1313/1313 [==============================] - 11s 8ms/step - loss: 0.0032 - accuracy: 0.9953 - val_loss: 0.0065 - val_accuracy: 0.9915\n",
            "Epoch 3/50\n",
            "1313/1313 [==============================] - 11s 8ms/step - loss: 0.0033 - accuracy: 0.9955 - val_loss: 0.0069 - val_accuracy: 0.9917\n",
            "Epoch 4/50\n",
            "1313/1313 [==============================] - 12s 9ms/step - loss: 0.0034 - accuracy: 0.9956 - val_loss: 0.0069 - val_accuracy: 0.9908\n",
            "Epoch 5/50\n",
            "1313/1313 [==============================] - 12s 9ms/step - loss: 0.0035 - accuracy: 0.9952 - val_loss: 0.0076 - val_accuracy: 0.9901\n",
            "Epoch 6/50\n",
            "1313/1313 [==============================] - 12s 9ms/step - loss: 0.0036 - accuracy: 0.9951 - val_loss: 0.0070 - val_accuracy: 0.9919\n",
            "Epoch 7/50\n",
            "1313/1313 [==============================] - 10s 8ms/step - loss: 0.0029 - accuracy: 0.9960 - val_loss: 0.0082 - val_accuracy: 0.9903\n",
            "Epoch 8/50\n",
            "1313/1313 [==============================] - 11s 9ms/step - loss: 0.0031 - accuracy: 0.9956 - val_loss: 0.0090 - val_accuracy: 0.9907\n",
            "Epoch 9/50\n",
            "1313/1313 [==============================] - 11s 9ms/step - loss: 0.0029 - accuracy: 0.9963 - val_loss: 0.0103 - val_accuracy: 0.9885\n",
            "Epoch 10/50\n",
            "1313/1313 [==============================] - 11s 8ms/step - loss: 0.0029 - accuracy: 0.9960 - val_loss: 0.0084 - val_accuracy: 0.9899\n",
            "Epoch 11/50\n",
            "1313/1313 [==============================] - 11s 9ms/step - loss: 0.0033 - accuracy: 0.9955 - val_loss: 0.0092 - val_accuracy: 0.9881\n",
            "Epoch 12/50\n",
            "1313/1313 [==============================] - 11s 8ms/step - loss: 0.0027 - accuracy: 0.9964 - val_loss: 0.0096 - val_accuracy: 0.9899\n",
            "Epoch 13/50\n",
            "1313/1313 [==============================] - 12s 9ms/step - loss: 0.0029 - accuracy: 0.9964 - val_loss: 0.0092 - val_accuracy: 0.9892\n",
            "Epoch 14/50\n",
            "1313/1313 [==============================] - 12s 9ms/step - loss: 0.0028 - accuracy: 0.9961 - val_loss: 0.0103 - val_accuracy: 0.9888\n",
            "Epoch 15/50\n",
            "1313/1313 [==============================] - 10s 8ms/step - loss: 0.0027 - accuracy: 0.9964 - val_loss: 0.0090 - val_accuracy: 0.9898\n",
            "Epoch 16/50\n",
            "1313/1313 [==============================] - 11s 8ms/step - loss: 0.0028 - accuracy: 0.9967 - val_loss: 0.0090 - val_accuracy: 0.9902\n",
            "Epoch 17/50\n",
            "1313/1313 [==============================] - 11s 8ms/step - loss: 0.0032 - accuracy: 0.9956 - val_loss: 0.0090 - val_accuracy: 0.9891\n",
            "Epoch 18/50\n",
            "1313/1313 [==============================] - 11s 8ms/step - loss: 0.0033 - accuracy: 0.9958 - val_loss: 0.0142 - val_accuracy: 0.9858\n",
            "Epoch 19/50\n",
            "1313/1313 [==============================] - 11s 8ms/step - loss: 0.0029 - accuracy: 0.9964 - val_loss: 0.0104 - val_accuracy: 0.9897\n",
            "Epoch 20/50\n",
            "1313/1313 [==============================] - 11s 8ms/step - loss: 0.0028 - accuracy: 0.9969 - val_loss: 0.0107 - val_accuracy: 0.9894\n",
            "Epoch 21/50\n",
            "1313/1313 [==============================] - 10s 7ms/step - loss: 0.0024 - accuracy: 0.9965 - val_loss: 0.0114 - val_accuracy: 0.9893\n",
            "Epoch 22/50\n",
            "1313/1313 [==============================] - 11s 8ms/step - loss: 0.0024 - accuracy: 0.9970 - val_loss: 0.0109 - val_accuracy: 0.9890\n",
            "Epoch 23/50\n",
            "1313/1313 [==============================] - 11s 8ms/step - loss: 0.0027 - accuracy: 0.9964 - val_loss: 0.0125 - val_accuracy: 0.9887\n",
            "Epoch 24/50\n",
            "1313/1313 [==============================] - 11s 8ms/step - loss: 0.0029 - accuracy: 0.9966 - val_loss: 0.0113 - val_accuracy: 0.9896\n",
            "Epoch 25/50\n",
            "1313/1313 [==============================] - 11s 8ms/step - loss: 0.0023 - accuracy: 0.9971 - val_loss: 0.0134 - val_accuracy: 0.9886\n",
            "Epoch 26/50\n",
            "1313/1313 [==============================] - 11s 9ms/step - loss: 0.0027 - accuracy: 0.9968 - val_loss: 0.0128 - val_accuracy: 0.9893\n",
            "Epoch 27/50\n",
            "1313/1313 [==============================] - 10s 7ms/step - loss: 0.0029 - accuracy: 0.9962 - val_loss: 0.0116 - val_accuracy: 0.9893\n",
            "Epoch 28/50\n",
            "1313/1313 [==============================] - 11s 9ms/step - loss: 0.0025 - accuracy: 0.9966 - val_loss: 0.0138 - val_accuracy: 0.9872\n",
            "Epoch 29/50\n",
            "1313/1313 [==============================] - 11s 9ms/step - loss: 0.0030 - accuracy: 0.9966 - val_loss: 0.0138 - val_accuracy: 0.9874\n",
            "Epoch 30/50\n",
            "1313/1313 [==============================] - 11s 9ms/step - loss: 0.0024 - accuracy: 0.9970 - val_loss: 0.0134 - val_accuracy: 0.9884\n",
            "Epoch 31/50\n",
            "1313/1313 [==============================] - 11s 9ms/step - loss: 0.0028 - accuracy: 0.9970 - val_loss: 0.0125 - val_accuracy: 0.9898\n",
            "Epoch 32/50\n",
            "1313/1313 [==============================] - 11s 9ms/step - loss: 0.0025 - accuracy: 0.9970 - val_loss: 0.0122 - val_accuracy: 0.9883\n",
            "Epoch 33/50\n",
            "1313/1313 [==============================] - 11s 8ms/step - loss: 0.0027 - accuracy: 0.9970 - val_loss: 0.0118 - val_accuracy: 0.9884\n",
            "Epoch 34/50\n",
            "1313/1313 [==============================] - 12s 9ms/step - loss: 0.0022 - accuracy: 0.9972 - val_loss: 0.0163 - val_accuracy: 0.9868\n",
            "Epoch 35/50\n",
            "1313/1313 [==============================] - 10s 8ms/step - loss: 0.0030 - accuracy: 0.9963 - val_loss: 0.0138 - val_accuracy: 0.9877\n",
            "Epoch 36/50\n",
            "1313/1313 [==============================] - 11s 8ms/step - loss: 0.0024 - accuracy: 0.9971 - val_loss: 0.0144 - val_accuracy: 0.9869\n",
            "Epoch 37/50\n",
            "1313/1313 [==============================] - 11s 9ms/step - loss: 0.0027 - accuracy: 0.9968 - val_loss: 0.0126 - val_accuracy: 0.9884\n",
            "Epoch 38/50\n",
            "1313/1313 [==============================] - 11s 9ms/step - loss: 0.0027 - accuracy: 0.9967 - val_loss: 0.0142 - val_accuracy: 0.9881\n",
            "Epoch 39/50\n",
            "1313/1313 [==============================] - 11s 9ms/step - loss: 0.0025 - accuracy: 0.9967 - val_loss: 0.0144 - val_accuracy: 0.9886\n",
            "Epoch 40/50\n",
            "1313/1313 [==============================] - 11s 9ms/step - loss: 0.0030 - accuracy: 0.9967 - val_loss: 0.0133 - val_accuracy: 0.9883\n",
            "Epoch 41/50\n",
            "1313/1313 [==============================] - 12s 9ms/step - loss: 0.0024 - accuracy: 0.9970 - val_loss: 0.0139 - val_accuracy: 0.9887\n",
            "Epoch 42/50\n",
            "1313/1313 [==============================] - 11s 9ms/step - loss: 0.0021 - accuracy: 0.9973 - val_loss: 0.0155 - val_accuracy: 0.9877\n",
            "Epoch 43/50\n",
            "1313/1313 [==============================] - 12s 9ms/step - loss: 0.0029 - accuracy: 0.9968 - val_loss: 0.0142 - val_accuracy: 0.9878\n",
            "Epoch 44/50\n",
            "1313/1313 [==============================] - 10s 8ms/step - loss: 0.0027 - accuracy: 0.9969 - val_loss: 0.0138 - val_accuracy: 0.9877\n",
            "Epoch 45/50\n",
            "1313/1313 [==============================] - 11s 9ms/step - loss: 0.0022 - accuracy: 0.9974 - val_loss: 0.0170 - val_accuracy: 0.9863\n",
            "Epoch 46/50\n",
            "1313/1313 [==============================] - 11s 9ms/step - loss: 0.0029 - accuracy: 0.9968 - val_loss: 0.0136 - val_accuracy: 0.9884\n",
            "Epoch 47/50\n",
            "1313/1313 [==============================] - 11s 8ms/step - loss: 0.0019 - accuracy: 0.9978 - val_loss: 0.0162 - val_accuracy: 0.9868\n",
            "Epoch 48/50\n",
            "1313/1313 [==============================] - 11s 9ms/step - loss: 0.0025 - accuracy: 0.9965 - val_loss: 0.0166 - val_accuracy: 0.9865\n",
            "Epoch 49/50\n",
            "1313/1313 [==============================] - 11s 8ms/step - loss: 0.0030 - accuracy: 0.9968 - val_loss: 0.0161 - val_accuracy: 0.9875\n",
            "Epoch 50/50\n",
            "1313/1313 [==============================] - 12s 9ms/step - loss: 0.0031 - accuracy: 0.9968 - val_loss: 0.0157 - val_accuracy: 0.9876\n"
          ]
        },
        {
          "output_type": "execute_result",
          "data": {
            "text/plain": [
              "<keras.callbacks.History at 0x7fcc891ad070>"
            ]
          },
          "metadata": {},
          "execution_count": 17
        }
      ]
    },
    {
      "cell_type": "code",
      "source": [
        "# prediction using trained model\n",
        "# use the test data to perform image recognition.\n",
        "\n",
        "prediction = model.predict(x_test)"
      ],
      "metadata": {
        "colab": {
          "base_uri": "https://localhost:8080/"
        },
        "id": "e1JQok5Wl5mf",
        "outputId": "27472190-609f-4920-af78-997f145d2b51"
      },
      "execution_count": null,
      "outputs": [
        {
          "output_type": "stream",
          "name": "stdout",
          "text": [
            "313/313 [==============================] - 1s 2ms/step\n"
          ]
        }
      ]
    },
    {
      "cell_type": "code",
      "source": [
        "# check the predictions in the following code, the result is an array of 10 elements,\n",
        "# with real numbers ranging from 0 to 1. \n",
        "# The index of the array with the largest number is the predicted number.\n",
        "\n",
        "print(prediction[0])\n",
        "print(f\"\\n{prediction}\")"
      ],
      "metadata": {
        "colab": {
          "base_uri": "https://localhost:8080/"
        },
        "id": "OUjQIdQ6rHdz",
        "outputId": "57d649ed-e1f0-4cdf-8932-42ad5dd3741e"
      },
      "execution_count": null,
      "outputs": [
        {
          "output_type": "stream",
          "name": "stdout",
          "text": [
            "[0.0000000e+00 0.0000000e+00 8.2248522e-34 2.5988428e-38 0.0000000e+00\n",
            " 0.0000000e+00 0.0000000e+00 9.9999994e-01 0.0000000e+00 1.8151705e-31]\n",
            "\n",
            "[[0.0000000e+00 0.0000000e+00 8.2248522e-34 ... 9.9999994e-01\n",
            "  0.0000000e+00 1.8151705e-31]\n",
            " [0.0000000e+00 0.0000000e+00 9.9999994e-01 ... 0.0000000e+00\n",
            "  0.0000000e+00 0.0000000e+00]\n",
            " [0.0000000e+00 9.9999994e-01 0.0000000e+00 ... 0.0000000e+00\n",
            "  0.0000000e+00 0.0000000e+00]\n",
            " ...\n",
            " [0.0000000e+00 0.0000000e+00 0.0000000e+00 ... 1.9677589e-37\n",
            "  0.0000000e+00 2.9572639e-34]\n",
            " [0.0000000e+00 0.0000000e+00 0.0000000e+00 ... 0.0000000e+00\n",
            "  0.0000000e+00 0.0000000e+00]\n",
            " [0.0000000e+00 0.0000000e+00 0.0000000e+00 ... 0.0000000e+00\n",
            "  0.0000000e+00 0.0000000e+00]]\n"
          ]
        }
      ]
    },
    {
      "cell_type": "code",
      "source": [
        "# return the subscript of the largest array of values.\n",
        "\n",
        "print(np.argmax(prediction[0]))"
      ],
      "metadata": {
        "colab": {
          "base_uri": "https://localhost:8080/"
        },
        "id": "wmtNBp5KmLix",
        "outputId": "ad7b2bc8-0e63-45fb-890b-6e379dff2bf1"
      },
      "execution_count": null,
      "outputs": [
        {
          "output_type": "stream",
          "name": "stdout",
          "text": [
            "7\n"
          ]
        }
      ]
    },
    {
      "cell_type": "code",
      "source": [
        "# output the correct answer label tell if this prediction is correct\n",
        "\n",
        "print(np.argmax(y_test[0]))"
      ],
      "metadata": {
        "colab": {
          "base_uri": "https://localhost:8080/"
        },
        "id": "uzckCZFamTT4",
        "outputId": "e085fe41-3aec-468f-c9fc-b5a438b0c7c1"
      },
      "execution_count": null,
      "outputs": [
        {
          "output_type": "stream",
          "name": "stdout",
          "text": [
            "7\n"
          ]
        }
      ]
    },
    {
      "cell_type": "code",
      "source": [],
      "metadata": {
        "id": "YRfjr3-EsVRP"
      },
      "execution_count": null,
      "outputs": []
    }
  ]
}